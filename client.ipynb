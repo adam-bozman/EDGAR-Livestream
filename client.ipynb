{
 "cells": [
  {
   "cell_type": "code",
   "execution_count": null,
   "metadata": {},
   "outputs": [],
   "source": [
    "import socketio\n",
    " \n",
    "sio = socketio.Client()\n",
    " \n",
    "@sio.on('connect', namespace='/all-filings')\n",
    "def on_connect():\n",
    "    print(\"Connected to https://api.sec-api.io:3334/all-filings\")\n",
    " \n",
    "@sio.on('filing', namespace='/all-filings')\n",
    "def on_filings(filing):\n",
    "    print(filing)\n",
    " \n",
    "sio.connect('https://api.sec-api.io:3334?apiKey=e35b3a5886dc24fe78158379a86d43cf517c2ca310ea3c87a245e1387a88be6a', namespaces=['/all-filings'], transports=[\"websocket\"])\n",
    "sio.wait()"
   ]
  }
 ],
 "metadata": {
  "kernelspec": {
   "display_name": "Python 3",
   "language": "python",
   "name": "python3"
  },
  "language_info": {
   "name": "python",
   "version": "3.11.2"
  },
  "orig_nbformat": 4,
  "vscode": {
   "interpreter": {
    "hash": "7be9dd318d17644e308e545a264da887e908b941e31ca24048aa09929e6d26a0"
   }
  }
 },
 "nbformat": 4,
 "nbformat_minor": 2
}
